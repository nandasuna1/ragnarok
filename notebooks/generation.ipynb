{
 "cells": [
  {
   "cell_type": "code",
   "execution_count": 25,
   "id": "0bf67318",
   "metadata": {},
   "outputs": [],
   "source": [
    "import sys\n",
    "import os\n",
    "sys.path.append(os.path.abspath(\"..\"))\n",
    "\n",
    "from transformers import AutoTokenizer, AutoModelForSeq2SeqLM\n",
    "import torch"
   ]
  },
  {
   "cell_type": "code",
   "execution_count": 9,
   "id": "8ab7e436",
   "metadata": {},
   "outputs": [],
   "source": [
    "# Carrega o modelo leve\n",
    "model_name = \"google/flan-t5-base\"\n",
    "tokenizer = AutoTokenizer.from_pretrained(model_name)\n",
    "model = AutoModelForSeq2SeqLM.from_pretrained(model_name)"
   ]
  },
  {
   "cell_type": "code",
   "execution_count": 23,
   "id": "1763d9cf",
   "metadata": {},
   "outputs": [],
   "source": [
    "def gerar_resposta(pergunta, documentos, max_tokens=256):\n",
    "    # Combina os documentos relevantes como contexto\n",
    "    contexto = \" \".join(documentos)    \n",
    "    # Prompt para o modelo\n",
    "    prompt = (\n",
    "    f\"Abaixo está uma descrição de um ou mais acidentes aéreos. \"\n",
    "    f\"Com base nessas informações, responda claramente à pergunta.\\n\\n\"\n",
    "    f\"Documentos:\\n{contexto}\\n\\n\"\n",
    "    f\"Pergunta: {pergunta}\\n\"\n",
    "    f\"Resposta:\"\n",
    ")\n",
    "    \n",
    "    # Tokeniza o prompt\n",
    "    inputs = tokenizer(prompt, return_tensors=\"pt\", truncation=True, max_length=512)\n",
    "    \n",
    "    # Gera a resposta\n",
    "    outputs = model.generate(**inputs, max_new_tokens=max_tokens)\n",
    "    \n",
    "    # Decodifica\n",
    "    resposta = tokenizer.decode(outputs[0], skip_special_tokens=True)\n",
    "    return resposta"
   ]
  },
  {
   "cell_type": "code",
   "execution_count": 11,
   "id": "86de8d05",
   "metadata": {},
   "outputs": [],
   "source": [
    "import nbimporter\n",
    "from retrieval import use_corpus, use_bm25, recuperar_documentos\n",
    "import pandas as pd\n",
    "\n",
    "df = pd.read_csv(\"../data/processed/clean_data.csv\")\n",
    "corpus = use_corpus(df)\n",
    "bm25 = use_bm25(corpus)\n"
   ]
  },
  {
   "cell_type": "code",
   "execution_count": 24,
   "id": "5d0a864b",
   "metadata": {},
   "outputs": [
    {
     "name": "stdout",
     "output_type": "stream",
     "text": [
      "Pergunta: Whats the place with most accidents?\n",
      "Resposta: clarksville , tennessee , united states\n"
     ]
    }
   ],
   "source": [
    "pergunta = \"Whats the place with most accidents?\"\n",
    "docs_relevantes = recuperar_documentos(pergunta, bm25, corpus, k=1)\n",
    "docs_relevantes = [\" \".join(doc) if isinstance(doc, list) else doc for doc in docs_relevantes]\n",
    "\n",
    "resposta = gerar_resposta(pergunta, docs_relevantes)\n",
    "\n",
    "print(\"Pergunta:\", pergunta)\n",
    "print(\"Resposta:\", resposta)"
   ]
  }
 ],
 "metadata": {
  "kernelspec": {
   "display_name": ".venv",
   "language": "python",
   "name": "python3"
  },
  "language_info": {
   "codemirror_mode": {
    "name": "ipython",
    "version": 3
   },
   "file_extension": ".py",
   "mimetype": "text/x-python",
   "name": "python",
   "nbconvert_exporter": "python",
   "pygments_lexer": "ipython3",
   "version": "3.11.5"
  }
 },
 "nbformat": 4,
 "nbformat_minor": 5
}
